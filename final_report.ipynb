{
 "cells": [
  {
   "cell_type": "markdown",
   "metadata": {},
   "source": [
    "# Interest Rate Derivative Pricing Platform\n",
    "\n",
    "Team: Hongfei Ge, Sijie Hou, Shuwen Pang\n",
    "\n",
    "---------------\n",
    "\n",
    "In this project, we are aiming to deveop a platform for options on interest rates using both BDT and Vasicek models. We start from getting historical data of weekly Treasury yield of past 10 years; interpolation and bootstrapping in order to get spot rate curve ready for further analysis. We choose to value swaptions by analytic and simulation methods of **Vasicek model** as well as **BDT model** with monthly steps. Lastly, we compare the different pricing results and provide recommendations. \n",
    "\n",
    "- overview diagram\n",
    "![structure](./structure.png)"
   ]
  },
  {
   "cell_type": "code",
   "execution_count": 1,
   "metadata": {},
   "outputs": [],
   "source": [
    "# import standard modules here\n",
    "import pandas as pd\n",
    "import numpy as np\n",
    "import warnings\n",
    "warnings.filterwarnings('ignore')"
   ]
  },
  {
   "cell_type": "markdown",
   "metadata": {},
   "source": [
    "----------\n",
    "## 0. Data Preparation\n",
    "\n",
    "- data source: https://fred.stlouisfed.org/categories/115?t=weekly&rt=weekly&ob=pv&od=desc\n",
    "\n",
    "Downloaded CMT weekly data of past 10 years with maturities 1-month, 3-month, 6-month, 1-year, 2-year, 3-year, 5-year, 7-year, 10-year, 20-year, and 30-year; merged data sets"
   ]
  },
  {
   "cell_type": "code",
   "execution_count": 2,
   "metadata": {},
   "outputs": [
    {
     "data": {
      "text/html": [
       "<div>\n",
       "<style scoped>\n",
       "    .dataframe tbody tr th:only-of-type {\n",
       "        vertical-align: middle;\n",
       "    }\n",
       "\n",
       "    .dataframe tbody tr th {\n",
       "        vertical-align: top;\n",
       "    }\n",
       "\n",
       "    .dataframe thead th {\n",
       "        text-align: right;\n",
       "    }\n",
       "</style>\n",
       "<table border=\"1\" class=\"dataframe\">\n",
       "  <thead>\n",
       "    <tr style=\"text-align: right;\">\n",
       "      <th></th>\n",
       "      <th>DATE</th>\n",
       "      <th>1m</th>\n",
       "      <th>3m</th>\n",
       "      <th>6m</th>\n",
       "      <th>1yr</th>\n",
       "      <th>2yr</th>\n",
       "      <th>3yr</th>\n",
       "      <th>5yr</th>\n",
       "      <th>7yr</th>\n",
       "      <th>10yr</th>\n",
       "      <th>20yr</th>\n",
       "      <th>30yr</th>\n",
       "    </tr>\n",
       "  </thead>\n",
       "  <tbody>\n",
       "    <tr>\n",
       "      <th>0</th>\n",
       "      <td>2011-03-25</td>\n",
       "      <td>0.05</td>\n",
       "      <td>0.09</td>\n",
       "      <td>0.16</td>\n",
       "      <td>0.26</td>\n",
       "      <td>0.71</td>\n",
       "      <td>1.17</td>\n",
       "      <td>2.10</td>\n",
       "      <td>2.78</td>\n",
       "      <td>3.38</td>\n",
       "      <td>4.22</td>\n",
       "      <td>4.46</td>\n",
       "    </tr>\n",
       "    <tr>\n",
       "      <th>1</th>\n",
       "      <td>2011-04-01</td>\n",
       "      <td>0.04</td>\n",
       "      <td>0.09</td>\n",
       "      <td>0.17</td>\n",
       "      <td>0.30</td>\n",
       "      <td>0.80</td>\n",
       "      <td>1.30</td>\n",
       "      <td>2.23</td>\n",
       "      <td>2.90</td>\n",
       "      <td>3.47</td>\n",
       "      <td>4.29</td>\n",
       "      <td>4.51</td>\n",
       "    </tr>\n",
       "    <tr>\n",
       "      <th>2</th>\n",
       "      <td>2011-04-08</td>\n",
       "      <td>0.03</td>\n",
       "      <td>0.05</td>\n",
       "      <td>0.13</td>\n",
       "      <td>0.27</td>\n",
       "      <td>0.82</td>\n",
       "      <td>1.32</td>\n",
       "      <td>2.28</td>\n",
       "      <td>2.95</td>\n",
       "      <td>3.54</td>\n",
       "      <td>4.35</td>\n",
       "      <td>4.57</td>\n",
       "    </tr>\n",
       "    <tr>\n",
       "      <th>3</th>\n",
       "      <td>2011-04-15</td>\n",
       "      <td>0.03</td>\n",
       "      <td>0.06</td>\n",
       "      <td>0.12</td>\n",
       "      <td>0.24</td>\n",
       "      <td>0.77</td>\n",
       "      <td>1.27</td>\n",
       "      <td>2.22</td>\n",
       "      <td>2.88</td>\n",
       "      <td>3.51</td>\n",
       "      <td>4.33</td>\n",
       "      <td>4.55</td>\n",
       "    </tr>\n",
       "    <tr>\n",
       "      <th>4</th>\n",
       "      <td>2011-04-22</td>\n",
       "      <td>0.04</td>\n",
       "      <td>0.06</td>\n",
       "      <td>0.11</td>\n",
       "      <td>0.24</td>\n",
       "      <td>0.69</td>\n",
       "      <td>1.15</td>\n",
       "      <td>2.12</td>\n",
       "      <td>2.78</td>\n",
       "      <td>3.41</td>\n",
       "      <td>4.23</td>\n",
       "      <td>4.46</td>\n",
       "    </tr>\n",
       "  </tbody>\n",
       "</table>\n",
       "</div>"
      ],
      "text/plain": [
       "         DATE    1m    3m    6m   1yr   2yr   3yr   5yr   7yr  10yr  20yr  \\\n",
       "0  2011-03-25  0.05  0.09  0.16  0.26  0.71  1.17  2.10  2.78  3.38  4.22   \n",
       "1  2011-04-01  0.04  0.09  0.17  0.30  0.80  1.30  2.23  2.90  3.47  4.29   \n",
       "2  2011-04-08  0.03  0.05  0.13  0.27  0.82  1.32  2.28  2.95  3.54  4.35   \n",
       "3  2011-04-15  0.03  0.06  0.12  0.24  0.77  1.27  2.22  2.88  3.51  4.33   \n",
       "4  2011-04-22  0.04  0.06  0.11  0.24  0.69  1.15  2.12  2.78  3.41  4.23   \n",
       "\n",
       "   30yr  \n",
       "0  4.46  \n",
       "1  4.51  \n",
       "2  4.57  \n",
       "3  4.55  \n",
       "4  4.46  "
      ]
     },
     "execution_count": 2,
     "metadata": {},
     "output_type": "execute_result"
    }
   ],
   "source": [
    "# see details in './data/CMT/CMT/preparation.ipynb'\n",
    "# results are saved in './data/CMT/CMT/CMT.csv'\n",
    "CMT = pd.read_csv('./data/CMT/CMT/CMT.csv')\n",
    "CMT.head()"
   ]
  },
  {
   "cell_type": "markdown",
   "metadata": {},
   "source": [
    "--------\n",
    "## 1. Installment 1\n",
    "\n",
    "We designed a seires classes to deal with curve bootstraping and interpolation. The structure are shown in the below image. We implemented **Cubic Spline** and **Nelson Siegel** methods to interplate all kinds of curves with any time intervals we prefer.\n",
    "\n",
    "In this project, we first generate forward curve from par curve and then use forwad curve to get spot curve."
   ]
  },
  {
   "cell_type": "markdown",
   "metadata": {},
   "source": [
    "![Curve](./Curves.png)"
   ]
  },
  {
   "cell_type": "code",
   "execution_count": 3,
   "metadata": {
    "scrolled": false
   },
   "outputs": [],
   "source": [
    "from src import IRModel\n",
    "from src import Curves"
   ]
  },
  {
   "cell_type": "code",
   "execution_count": 4,
   "metadata": {
    "scrolled": false
   },
   "outputs": [
    {
     "name": "stdout",
     "output_type": "stream",
     "text": [
      "           0.083333   0.250000  0.500000  1.000000  2.000000  3.000000   \\\n",
      "DATE                                                                      \n",
      "2011-03-25      0.05  0.0900015  0.160015  0.260078  0.711712   1.17735   \n",
      "2011-04-01      0.04  0.0900019  0.170019  0.300114  0.802165   1.30897   \n",
      "2011-04-08      0.03  0.0500004  0.130014  0.270109  0.822435   1.32934   \n",
      "2011-04-15      0.03  0.0600008   0.12001  0.240082  0.772184   1.27887   \n",
      "2011-04-22      0.04  0.0600005  0.110007  0.240086  0.691685   1.15725   \n",
      "\n",
      "           5.000000  7.000000  10.000000 20.000000 30.000000  \n",
      "DATE                                                          \n",
      "2011-03-25   2.13866   2.86887   3.53992    4.5692   4.90212  \n",
      "2011-04-01   2.27197   2.99291    3.6302   4.63679   4.93453  \n",
      "2011-04-08   2.32428    3.0459   3.70785   4.70257   5.00215  \n",
      "2011-04-15    2.2626   2.97224   3.68107   4.68727    4.9848  \n",
      "2011-04-22   2.16042   2.86866   3.57557   4.57708    4.8913  \n"
     ]
    },
    {
     "data": {
      "text/plain": [
       "<AxesSubplot:xlabel='DATE'>"
      ]
     },
     "execution_count": 4,
     "metadata": {},
     "output_type": "execute_result"
    },
    {
     "data": {
      "image/png": "[encoded data removed]",
      "text/plain": [
       "<Figure size 432x288 with 1 Axes>"
      ]
     },
     "metadata": {
      "needs_background": "light"
     },
     "output_type": "display_data"
    }
   ],
   "source": [
    "# spot curve bootstrap\n",
    "spot = IRModel.BondOptionPricer.spotBootstrapping(CMT)\n",
    "spot.to_csv(\"./csv_results/installment1_spot_curve.csv\")\n",
    "print(spot.head())\n",
    "spot.iloc[:,1:].plot()"
   ]
  },
  {
   "cell_type": "markdown",
   "metadata": {},
   "source": [
    "-------\n",
    "## 2. Installmet 2"
   ]
  },
  {
   "cell_type": "markdown",
   "metadata": {},
   "source": [
    "### 2.1 Monthly spot curve interpolation"
   ]
  },
  {
   "cell_type": "markdown",
   "metadata": {},
   "source": [
    "#### 2.1.1 Cubic Method"
   ]
  },
  {
   "cell_type": "markdown",
   "metadata": {},
   "source": [
    "Below we displayed results of **Cubic Spline method** and **Nelson Siegel method**.\n",
    "For Cubic Spline: we divide original yields into three buckets, each with the model formula\n",
    "<div class=\"math\">\n",
    "\\begin{equation}\n",
    "  y = a+bt+ct^2+dt^3 \n",
    "\\end{equation}\n",
    "</div> \n",
    "Since we have only 4 data points as input to get 4 optimized paremeters, this optimization model might be likely to fail due to limitied input. As we can see from the graph, the short-to-long term to maturity part seems to have a failed model even with gap condition and gap condition."
   ]
  },
  {
   "cell_type": "code",
   "execution_count": 5,
   "metadata": {},
   "outputs": [
    {
     "data": {
      "text/html": [
       "<div>\n",
       "<style scoped>\n",
       "    .dataframe tbody tr th:only-of-type {\n",
       "        vertical-align: middle;\n",
       "    }\n",
       "\n",
       "    .dataframe tbody tr th {\n",
       "        vertical-align: top;\n",
       "    }\n",
       "\n",
       "    .dataframe thead th {\n",
       "        text-align: right;\n",
       "    }\n",
       "</style>\n",
       "<table border=\"1\" class=\"dataframe\">\n",
       "  <thead>\n",
       "    <tr style=\"text-align: right;\">\n",
       "      <th></th>\n",
       "      <th>0.083333</th>\n",
       "      <th>0.166667</th>\n",
       "      <th>0.250000</th>\n",
       "      <th>0.333333</th>\n",
       "      <th>0.416667</th>\n",
       "      <th>0.500000</th>\n",
       "      <th>0.583333</th>\n",
       "      <th>0.666667</th>\n",
       "      <th>0.750000</th>\n",
       "      <th>0.833333</th>\n",
       "      <th>...</th>\n",
       "      <th>7.250000</th>\n",
       "      <th>7.333333</th>\n",
       "      <th>7.416667</th>\n",
       "      <th>7.500000</th>\n",
       "      <th>7.583333</th>\n",
       "      <th>7.666667</th>\n",
       "      <th>7.750000</th>\n",
       "      <th>7.833333</th>\n",
       "      <th>7.916667</th>\n",
       "      <th>8.000000</th>\n",
       "    </tr>\n",
       "    <tr>\n",
       "      <th>DATE</th>\n",
       "      <th></th>\n",
       "      <th></th>\n",
       "      <th></th>\n",
       "      <th></th>\n",
       "      <th></th>\n",
       "      <th></th>\n",
       "      <th></th>\n",
       "      <th></th>\n",
       "      <th></th>\n",
       "      <th></th>\n",
       "      <th></th>\n",
       "      <th></th>\n",
       "      <th></th>\n",
       "      <th></th>\n",
       "      <th></th>\n",
       "      <th></th>\n",
       "      <th></th>\n",
       "      <th></th>\n",
       "      <th></th>\n",
       "      <th></th>\n",
       "      <th></th>\n",
       "    </tr>\n",
       "  </thead>\n",
       "  <tbody>\n",
       "    <tr>\n",
       "      <th>2011-03-25</th>\n",
       "      <td>0.059405</td>\n",
       "      <td>0.072440</td>\n",
       "      <td>0.086628</td>\n",
       "      <td>0.102129</td>\n",
       "      <td>0.119102</td>\n",
       "      <td>0.137706</td>\n",
       "      <td>0.158102</td>\n",
       "      <td>0.180450</td>\n",
       "      <td>0.204908</td>\n",
       "      <td>0.231636</td>\n",
       "      <td>...</td>\n",
       "      <td>2.895155</td>\n",
       "      <td>2.920631</td>\n",
       "      <td>2.945841</td>\n",
       "      <td>2.970786</td>\n",
       "      <td>2.995467</td>\n",
       "      <td>3.019886</td>\n",
       "      <td>3.044044</td>\n",
       "      <td>3.067943</td>\n",
       "      <td>3.091585</td>\n",
       "      <td>3.114970</td>\n",
       "    </tr>\n",
       "    <tr>\n",
       "      <th>2011-04-01</th>\n",
       "      <td>0.038567</td>\n",
       "      <td>0.060186</td>\n",
       "      <td>0.082986</td>\n",
       "      <td>0.107002</td>\n",
       "      <td>0.132268</td>\n",
       "      <td>0.158817</td>\n",
       "      <td>0.186686</td>\n",
       "      <td>0.215907</td>\n",
       "      <td>0.246514</td>\n",
       "      <td>0.278543</td>\n",
       "      <td>...</td>\n",
       "      <td>3.014797</td>\n",
       "      <td>3.040238</td>\n",
       "      <td>3.065405</td>\n",
       "      <td>3.090299</td>\n",
       "      <td>3.114921</td>\n",
       "      <td>3.139274</td>\n",
       "      <td>3.163358</td>\n",
       "      <td>3.187176</td>\n",
       "      <td>3.210728</td>\n",
       "      <td>3.234017</td>\n",
       "    </tr>\n",
       "    <tr>\n",
       "      <th>2011-04-08</th>\n",
       "      <td>0.032698</td>\n",
       "      <td>0.028369</td>\n",
       "      <td>0.037508</td>\n",
       "      <td>0.057019</td>\n",
       "      <td>0.083802</td>\n",
       "      <td>0.114760</td>\n",
       "      <td>0.146795</td>\n",
       "      <td>0.176808</td>\n",
       "      <td>0.201701</td>\n",
       "      <td>0.218377</td>\n",
       "      <td>...</td>\n",
       "      <td>3.077369</td>\n",
       "      <td>3.103271</td>\n",
       "      <td>3.128890</td>\n",
       "      <td>3.154227</td>\n",
       "      <td>3.179284</td>\n",
       "      <td>3.204062</td>\n",
       "      <td>3.228564</td>\n",
       "      <td>3.252790</td>\n",
       "      <td>3.276742</td>\n",
       "      <td>3.300423</td>\n",
       "    </tr>\n",
       "    <tr>\n",
       "      <th>2011-04-15</th>\n",
       "      <td>0.033613</td>\n",
       "      <td>0.033664</td>\n",
       "      <td>0.043275</td>\n",
       "      <td>0.060404</td>\n",
       "      <td>0.083011</td>\n",
       "      <td>0.109054</td>\n",
       "      <td>0.136494</td>\n",
       "      <td>0.163288</td>\n",
       "      <td>0.187397</td>\n",
       "      <td>0.206779</td>\n",
       "      <td>...</td>\n",
       "      <td>3.023760</td>\n",
       "      <td>3.049837</td>\n",
       "      <td>3.075634</td>\n",
       "      <td>3.101152</td>\n",
       "      <td>3.126394</td>\n",
       "      <td>3.151361</td>\n",
       "      <td>3.176054</td>\n",
       "      <td>3.200474</td>\n",
       "      <td>3.224625</td>\n",
       "      <td>3.248506</td>\n",
       "    </tr>\n",
       "    <tr>\n",
       "      <th>2011-04-22</th>\n",
       "      <td>0.035391</td>\n",
       "      <td>0.047409</td>\n",
       "      <td>0.060655</td>\n",
       "      <td>0.075297</td>\n",
       "      <td>0.091507</td>\n",
       "      <td>0.109454</td>\n",
       "      <td>0.129307</td>\n",
       "      <td>0.151237</td>\n",
       "      <td>0.175415</td>\n",
       "      <td>0.202009</td>\n",
       "      <td>...</td>\n",
       "      <td>2.915112</td>\n",
       "      <td>2.940978</td>\n",
       "      <td>2.966569</td>\n",
       "      <td>2.991886</td>\n",
       "      <td>3.016930</td>\n",
       "      <td>3.041703</td>\n",
       "      <td>3.066206</td>\n",
       "      <td>3.090441</td>\n",
       "      <td>3.114410</td>\n",
       "      <td>3.138114</td>\n",
       "    </tr>\n",
       "  </tbody>\n",
       "</table>\n",
       "<p>5 rows × 96 columns</p>\n",
       "</div>"
      ],
      "text/plain": [
       "            0.083333  0.166667  0.250000  0.333333  0.416667  0.500000  \\\n",
       "DATE                                                                     \n",
       "2011-03-25  0.059405  0.072440  0.086628  0.102129  0.119102  0.137706   \n",
       "2011-04-01  0.038567  0.060186  0.082986  0.107002  0.132268  0.158817   \n",
       "2011-04-08  0.032698  0.028369  0.037508  0.057019  0.083802  0.114760   \n",
       "2011-04-15  0.033613  0.033664  0.043275  0.060404  0.083011  0.109054   \n",
       "2011-04-22  0.035391  0.047409  0.060655  0.075297  0.091507  0.109454   \n",
       "\n",
       "            0.583333  0.666667  0.750000  0.833333  ...  7.250000  7.333333  \\\n",
       "DATE                                                ...                       \n",
       "2011-03-25  0.158102  0.180450  0.204908  0.231636  ...  2.895155  2.920631   \n",
       "2011-04-01  0.186686  0.215907  0.246514  0.278543  ...  3.014797  3.040238   \n",
       "2011-04-08  0.146795  0.176808  0.201701  0.218377  ...  3.077369  3.103271   \n",
       "2011-04-15  0.136494  0.163288  0.187397  0.206779  ...  3.023760  3.049837   \n",
       "2011-04-22  0.129307  0.151237  0.175415  0.202009  ...  2.915112  2.940978   \n",
       "\n",
       "            7.416667  7.500000  7.583333  7.666667  7.750000  7.833333  \\\n",
       "DATE                                                                     \n",
       "2011-03-25  2.945841  2.970786  2.995467  3.019886  3.044044  3.067943   \n",
       "2011-04-01  3.065405  3.090299  3.114921  3.139274  3.163358  3.187176   \n",
       "2011-04-08  3.128890  3.154227  3.179284  3.204062  3.228564  3.252790   \n",
       "2011-04-15  3.075634  3.101152  3.126394  3.151361  3.176054  3.200474   \n",
       "2011-04-22  2.966569  2.991886  3.016930  3.041703  3.066206  3.090441   \n",
       "\n",
       "            7.916667  8.000000  \n",
       "DATE                            \n",
       "2011-03-25  3.091585  3.114970  \n",
       "2011-04-01  3.210728  3.234017  \n",
       "2011-04-08  3.276742  3.300423  \n",
       "2011-04-15  3.224625  3.248506  \n",
       "2011-04-22  3.114410  3.138114  \n",
       "\n",
       "[5 rows x 96 columns]"
      ]
     },
     "execution_count": 5,
     "metadata": {},
     "output_type": "execute_result"
    }
   ],
   "source": [
    "step = 1/12\n",
    "tenor = [(i+1)*step for i in range(int(np.ceil(8 / step)))]\n",
    "window_len = 100\n",
    "f = lambda x: Curves.SpotRateCurve(spot.columns,x)(tenor,method='Cubic')\n",
    "df = spot.apply(f,axis=1,result_type='expand')\n",
    "df.columns = tenor\n",
    "df.head()"
   ]
  },
  {
   "cell_type": "code",
   "execution_count": 6,
   "metadata": {},
   "outputs": [
    {
     "data": {
      "text/plain": [
       "<AxesSubplot:>"
      ]
     },
     "execution_count": 6,
     "metadata": {},
     "output_type": "execute_result"
    },
    {
     "data": {
      "image/png": "[encoded data removed]",
      "text/plain": [
       "<Figure size 432x288 with 1 Axes>"
      ]
     },
     "metadata": {
      "needs_background": "light"
     },
     "output_type": "display_data"
    }
   ],
   "source": [
    "df.head().T.plot()"
   ]
  },
  {
   "cell_type": "markdown",
   "metadata": {},
   "source": [
    "#### 2. 1.2 Nelson Siegel Methods"
   ]
  },
  {
   "cell_type": "markdown",
   "metadata": {},
   "source": [
    "For Nelson Siegel, we have all 11 data points for one model with the formula\n",
    "<div class=\"math\">\n",
    "\\begin{equation}\n",
    "  \\beta_0+\\beta_1\\frac{1-e^{\\frac{-t}{\\tau}}}{\\frac{t}{\\tau}}+\\beta_2(\\frac{1-e^{\\frac{-t}{\\tau}}}{\\frac{t}{\\tau}}-e^{\\frac{-t}{\\tau}})+\\beta_3(\\frac{1-e^{\\frac{-t}{\\tau}}}{\\frac{t}{\\tau}}-e^{\\frac{-t}{\\tau}})\n",
    "\\end{equation}\n",
    "</div>\n",
    "From the graph, we can tell that the curve is pretty smooth and fits well, therefore we prefer this method."
   ]
  },
  {
   "cell_type": "code",
   "execution_count": 7,
   "metadata": {},
   "outputs": [
    {
     "data": {
      "text/html": [
       "<div>\n",
       "<style scoped>\n",
       "    .dataframe tbody tr th:only-of-type {\n",
       "        vertical-align: middle;\n",
       "    }\n",
       "\n",
       "    .dataframe tbody tr th {\n",
       "        vertical-align: top;\n",
       "    }\n",
       "\n",
       "    .dataframe thead th {\n",
       "        text-align: right;\n",
       "    }\n",
       "</style>\n",
       "<table border=\"1\" class=\"dataframe\">\n",
       "  <thead>\n",
       "    <tr style=\"text-align: right;\">\n",
       "      <th></th>\n",
       "      <th>0.083333</th>\n",
       "      <th>0.166667</th>\n",
       "      <th>0.250000</th>\n",
       "      <th>0.333333</th>\n",
       "      <th>0.416667</th>\n",
       "      <th>0.500000</th>\n",
       "      <th>0.583333</th>\n",
       "      <th>0.666667</th>\n",
       "      <th>0.750000</th>\n",
       "      <th>0.833333</th>\n",
       "      <th>...</th>\n",
       "      <th>7.250000</th>\n",
       "      <th>7.333333</th>\n",
       "      <th>7.416667</th>\n",
       "      <th>7.500000</th>\n",
       "      <th>7.583333</th>\n",
       "      <th>7.666667</th>\n",
       "      <th>7.750000</th>\n",
       "      <th>7.833333</th>\n",
       "      <th>7.916667</th>\n",
       "      <th>8.000000</th>\n",
       "    </tr>\n",
       "    <tr>\n",
       "      <th>DATE</th>\n",
       "      <th></th>\n",
       "      <th></th>\n",
       "      <th></th>\n",
       "      <th></th>\n",
       "      <th></th>\n",
       "      <th></th>\n",
       "      <th></th>\n",
       "      <th></th>\n",
       "      <th></th>\n",
       "      <th></th>\n",
       "      <th></th>\n",
       "      <th></th>\n",
       "      <th></th>\n",
       "      <th></th>\n",
       "      <th></th>\n",
       "      <th></th>\n",
       "      <th></th>\n",
       "      <th></th>\n",
       "      <th></th>\n",
       "      <th></th>\n",
       "      <th></th>\n",
       "    </tr>\n",
       "  </thead>\n",
       "  <tbody>\n",
       "    <tr>\n",
       "      <th>2011-03-25</th>\n",
       "      <td>0.071345</td>\n",
       "      <td>0.076548</td>\n",
       "      <td>0.084951</td>\n",
       "      <td>0.096339</td>\n",
       "      <td>0.110509</td>\n",
       "      <td>0.127269</td>\n",
       "      <td>0.146438</td>\n",
       "      <td>0.167842</td>\n",
       "      <td>0.191320</td>\n",
       "      <td>0.216715</td>\n",
       "      <td>...</td>\n",
       "      <td>2.918716</td>\n",
       "      <td>2.942891</td>\n",
       "      <td>2.966737</td>\n",
       "      <td>2.990258</td>\n",
       "      <td>3.013459</td>\n",
       "      <td>3.036343</td>\n",
       "      <td>3.058914</td>\n",
       "      <td>3.081177</td>\n",
       "      <td>3.103136</td>\n",
       "      <td>3.124794</td>\n",
       "    </tr>\n",
       "    <tr>\n",
       "      <th>2011-04-01</th>\n",
       "      <td>0.056119</td>\n",
       "      <td>0.067887</td>\n",
       "      <td>0.082682</td>\n",
       "      <td>0.100289</td>\n",
       "      <td>0.120502</td>\n",
       "      <td>0.143129</td>\n",
       "      <td>0.167988</td>\n",
       "      <td>0.194907</td>\n",
       "      <td>0.223722</td>\n",
       "      <td>0.254282</td>\n",
       "      <td>...</td>\n",
       "      <td>3.041788</td>\n",
       "      <td>3.065376</td>\n",
       "      <td>3.088629</td>\n",
       "      <td>3.111550</td>\n",
       "      <td>3.134145</td>\n",
       "      <td>3.156418</td>\n",
       "      <td>3.178373</td>\n",
       "      <td>3.200016</td>\n",
       "      <td>3.221351</td>\n",
       "      <td>3.242382</td>\n",
       "    </tr>\n",
       "    <tr>\n",
       "      <th>2011-04-08</th>\n",
       "      <td>0.027352</td>\n",
       "      <td>0.038834</td>\n",
       "      <td>0.053606</td>\n",
       "      <td>0.071427</td>\n",
       "      <td>0.092072</td>\n",
       "      <td>0.115326</td>\n",
       "      <td>0.140988</td>\n",
       "      <td>0.168868</td>\n",
       "      <td>0.198787</td>\n",
       "      <td>0.230576</td>\n",
       "      <td>...</td>\n",
       "      <td>3.107999</td>\n",
       "      <td>3.131872</td>\n",
       "      <td>3.155397</td>\n",
       "      <td>3.178578</td>\n",
       "      <td>3.201420</td>\n",
       "      <td>3.223928</td>\n",
       "      <td>3.246108</td>\n",
       "      <td>3.267964</td>\n",
       "      <td>3.289502</td>\n",
       "      <td>3.310726</td>\n",
       "    </tr>\n",
       "    <tr>\n",
       "      <th>2011-04-15</th>\n",
       "      <td>0.034121</td>\n",
       "      <td>0.042068</td>\n",
       "      <td>0.053425</td>\n",
       "      <td>0.067951</td>\n",
       "      <td>0.085417</td>\n",
       "      <td>0.105609</td>\n",
       "      <td>0.128324</td>\n",
       "      <td>0.153368</td>\n",
       "      <td>0.180563</td>\n",
       "      <td>0.209736</td>\n",
       "      <td>...</td>\n",
       "      <td>3.053346</td>\n",
       "      <td>3.077571</td>\n",
       "      <td>3.101449</td>\n",
       "      <td>3.124985</td>\n",
       "      <td>3.148183</td>\n",
       "      <td>3.171049</td>\n",
       "      <td>3.193587</td>\n",
       "      <td>3.215801</td>\n",
       "      <td>3.237697</td>\n",
       "      <td>3.259280</td>\n",
       "    </tr>\n",
       "    <tr>\n",
       "      <th>2011-04-22</th>\n",
       "      <td>0.051234</td>\n",
       "      <td>0.053485</td>\n",
       "      <td>0.059352</td>\n",
       "      <td>0.068588</td>\n",
       "      <td>0.080960</td>\n",
       "      <td>0.096246</td>\n",
       "      <td>0.114237</td>\n",
       "      <td>0.134737</td>\n",
       "      <td>0.157558</td>\n",
       "      <td>0.182525</td>\n",
       "      <td>...</td>\n",
       "      <td>2.939462</td>\n",
       "      <td>2.963724</td>\n",
       "      <td>2.987645</td>\n",
       "      <td>3.011229</td>\n",
       "      <td>3.034481</td>\n",
       "      <td>3.057406</td>\n",
       "      <td>3.080008</td>\n",
       "      <td>3.102291</td>\n",
       "      <td>3.124260</td>\n",
       "      <td>3.145919</td>\n",
       "    </tr>\n",
       "  </tbody>\n",
       "</table>\n",
       "<p>5 rows × 96 columns</p>\n",
       "</div>"
      ],
      "text/plain": [
       "            0.083333  0.166667  0.250000  0.333333  0.416667  0.500000  \\\n",
       "DATE                                                                     \n",
       "2011-03-25  0.071345  0.076548  0.084951  0.096339  0.110509  0.127269   \n",
       "2011-04-01  0.056119  0.067887  0.082682  0.100289  0.120502  0.143129   \n",
       "2011-04-08  0.027352  0.038834  0.053606  0.071427  0.092072  0.115326   \n",
       "2011-04-15  0.034121  0.042068  0.053425  0.067951  0.085417  0.105609   \n",
       "2011-04-22  0.051234  0.053485  0.059352  0.068588  0.080960  0.096246   \n",
       "\n",
       "            0.583333  0.666667  0.750000  0.833333  ...  7.250000  7.333333  \\\n",
       "DATE                                                ...                       \n",
       "2011-03-25  0.146438  0.167842  0.191320  0.216715  ...  2.918716  2.942891   \n",
       "2011-04-01  0.167988  0.194907  0.223722  0.254282  ...  3.041788  3.065376   \n",
       "2011-04-08  0.140988  0.168868  0.198787  0.230576  ...  3.107999  3.131872   \n",
       "2011-04-15  0.128324  0.153368  0.180563  0.209736  ...  3.053346  3.077571   \n",
       "2011-04-22  0.114237  0.134737  0.157558  0.182525  ...  2.939462  2.963724   \n",
       "\n",
       "            7.416667  7.500000  7.583333  7.666667  7.750000  7.833333  \\\n",
       "DATE                                                                     \n",
       "2011-03-25  2.966737  2.990258  3.013459  3.036343  3.058914  3.081177   \n",
       "2011-04-01  3.088629  3.111550  3.134145  3.156418  3.178373  3.200016   \n",
       "2011-04-08  3.155397  3.178578  3.201420  3.223928  3.246108  3.267964   \n",
       "2011-04-15  3.101449  3.124985  3.148183  3.171049  3.193587  3.215801   \n",
       "2011-04-22  2.987645  3.011229  3.034481  3.057406  3.080008  3.102291   \n",
       "\n",
       "            7.916667  8.000000  \n",
       "DATE                            \n",
       "2011-03-25  3.103136  3.124794  \n",
       "2011-04-01  3.221351  3.242382  \n",
       "2011-04-08  3.289502  3.310726  \n",
       "2011-04-15  3.237697  3.259280  \n",
       "2011-04-22  3.124260  3.145919  \n",
       "\n",
       "[5 rows x 96 columns]"
      ]
     },
     "execution_count": 7,
     "metadata": {},
     "output_type": "execute_result"
    }
   ],
   "source": [
    "f = lambda x: Curves.SpotRateCurve(spot.columns,x)(tenor,method='NS')\n",
    "df = spot.apply(f,axis=1,result_type='expand')\n",
    "df.columns = tenor\n",
    "df.head()"
   ]
  },
  {
   "cell_type": "code",
   "execution_count": 8,
   "metadata": {},
   "outputs": [
    {
     "data": {
      "text/plain": [
       "<AxesSubplot:>"
      ]
     },
     "execution_count": 8,
     "metadata": {},
     "output_type": "execute_result"
    },
    {
     "data": {
      "image/png": "[encoded data removed]",
      "text/plain": [
       "<Figure size 432x288 with 1 Axes>"
      ]
     },
     "metadata": {
      "needs_background": "light"
     },
     "output_type": "display_data"
    }
   ],
   "source": [
    "df.head().T.plot()"
   ]
  },
  {
   "cell_type": "markdown",
   "metadata": {},
   "source": [
    "### 2.2 Annual volatility"
   ]
  },
  {
   "cell_type": "code",
   "execution_count": 9,
   "metadata": {},
   "outputs": [
    {
     "name": "stdout",
     "output_type": "stream",
     "text": [
      "               vol\n",
      "tenor             \n",
      "0.083333  0.422012\n",
      "0.166667  0.273456\n",
      "0.250000  0.225251\n",
      "0.333333  0.205560\n",
      "0.416667  0.200233\n"
     ]
    },
    {
     "data": {
      "text/plain": [
       "<AxesSubplot:xlabel='tenor'>"
      ]
     },
     "execution_count": 9,
     "metadata": {},
     "output_type": "execute_result"
    },
    {
     "data": {
      "image/png": "[encoded data removed]",
      "text/plain": [
       "<Figure size 432x288 with 1 Axes>"
      ]
     },
     "metadata": {
      "needs_background": "light"
     },
     "output_type": "display_data"
    }
   ],
   "source": [
    "vol = pd.DataFrame(zip(df.columns,np.log(df[-window_len-120:-120]/df[-window_len-120:-120].shift(1)).std(axis=0)/np.sqrt(5/252)),columns=['tenor','vol'])\n",
    "vol = vol.set_index('tenor')\n",
    "print(vol.head())\n",
    "vol.plot()"
   ]
  },
  {
   "cell_type": "markdown",
   "metadata": {},
   "source": [
    "-----------\n",
    "## 3. Installment 3\n"
   ]
  },
  {
   "cell_type": "markdown",
   "metadata": {},
   "source": [
    "### 3.1 Bond Option Pricing"
   ]
  },
  {
   "cell_type": "markdown",
   "metadata": {},
   "source": [
    "![model](./models.png)"
   ]
  },
  {
   "cell_type": "markdown",
   "metadata": {},
   "source": [
    "#### 3.1.1 Vasicek Model"
   ]
  },
  {
   "cell_type": "code",
   "execution_count": 10,
   "metadata": {},
   "outputs": [
    {
     "name": "stdout",
     "output_type": "stream",
     "text": [
      "      fun: 0.0002164878100280068\n",
      " hess_inv: <3x3 LbfgsInvHessProduct with dtype=float64>\n",
      "      jac: array([-4.11099919e-06, -3.18001647e-06,  3.90193737e-02])\n",
      "  message: b'CONVERGENCE: NORM_OF_PROJECTED_GRADIENT_<=_PGTOL'\n",
      "     nfev: 560\n",
      "      nit: 82\n",
      "     njev: 140\n",
      "   status: 0\n",
      "  success: True\n",
      "        x: array([0.04872048, 0.10268728, 0.02      ])\n",
      "Vasicek model parameters are [0.04872048 0.10268728 0.02      ]\n",
      "Analytic solution for bond call [0.57, 6, 8] is 0.35875977577085605\n",
      "MC simulation solution for bond call [0.57, 6, 8] with parameters (12.0, 10000) is 0.35452566660795204\n"
     ]
    }
   ],
   "source": [
    "data = CMT\n",
    "model_type = 'V'\n",
    "intp = 'NS'\n",
    "opt = [0.57, 6, 8]\n",
    "bond = [0, 8, 8, 1]\n",
    "optCall = True\n",
    "step = 1 / 12\n",
    "rounds = 10000\n",
    "window_len = 96\n",
    "\n",
    "pricer = IRModel.BondOptionPricer(data, model_type, intp,\n",
    "                          opt, bond, optCall, step, rounds, window_len)\n",
    "pricer.getOptionPrice()"
   ]
  },
  {
   "cell_type": "markdown",
   "metadata": {},
   "source": [
    "#### 3.1.2 BDT Model"
   ]
  },
  {
   "cell_type": "code",
   "execution_count": 11,
   "metadata": {
    "scrolled": false
   },
   "outputs": [
    {
     "name": "stdout",
     "output_type": "stream",
     "text": [
      "[[0.39205206 0.39730106 0.40274291 ... 0.43       0.43       0.43      ]\n",
      " [0.         0.38683788 0.39441719 ... 0.43       0.43       0.43      ]\n",
      " [0.         0.         0.38370072 ... 0.43       0.43       0.43      ]\n",
      " ...\n",
      " [0.         0.         0.         ... 0.43       0.43       0.43      ]\n",
      " [0.         0.         0.         ... 0.         0.43       0.43      ]\n",
      " [0.         0.         0.         ... 0.         0.         0.43      ]]\n"
     ]
    },
    {
     "data": {
      "text/plain": [
       "0.3920520601518496"
      ]
     },
     "execution_count": 11,
     "metadata": {},
     "output_type": "execute_result"
    }
   ],
   "source": [
    "# might take a little bit longer for solver\n",
    "data = pd.read_csv('./data/CMT/CMT/CMT.csv')\n",
    "model_type = 'BDT'\n",
    "intp = 'NS'\n",
    "opt = [0.57, 6, 8]\n",
    "bond = [0, 8, 8, 1]\n",
    "optCall = True\n",
    "step = 1 / 12\n",
    "rounds = 10000\n",
    "window_len = 100\n",
    "pricer = IRModel.BondOptionPricer(data, model_type, intp,\n",
    "                          opt, bond, optCall, step, rounds, window_len)\n",
    "pricer.getOptionPrice()"
   ]
  },
  {
   "cell_type": "code",
   "execution_count": 12,
   "metadata": {},
   "outputs": [],
   "source": [
    "pd.DataFrame(pricer.model.shortRate).to_csv('shortRateTree.csv')"
   ]
  },
  {
   "cell_type": "markdown",
   "metadata": {},
   "source": [
    "### 3.2 Results Analysis"
   ]
  },
  {
   "cell_type": "markdown",
   "metadata": {},
   "source": [
    "- Vasicek Model\n",
    "\n",
    ">Analytic solution for bond call [0.57, 6, 8] is 0.35875977577085605\n",
    "\n",
    ">MC simulation solution for bond call [0.57, 6, 8] with parameters (12.0, 10000) is 0.3569789341234479\n",
    "\n",
    "From results, we can see analytic method and simulation method get very close solutions. It proves that our pricing model works as we expected."
   ]
  },
  {
   "cell_type": "markdown",
   "metadata": {},
   "source": [
    "- BDT model\n",
    "\n",
    "We got a price also close to the solutions in the Vasicek Model. (0.3920520601518496)"
   ]
  },
  {
   "cell_type": "markdown",
   "metadata": {},
   "source": [
    "### 3.3 Interpolation errors"
   ]
  },
  {
   "cell_type": "markdown",
   "metadata": {},
   "source": [
    "Cubic Spline interpolation method tends to generate errors because of limited input points. Even with gap conditions and kink conditions, the model is still highly likely to fail. Instead, Nelson Siegel interpolation method shows much better and fitted results."
   ]
  },
  {
   "cell_type": "markdown",
   "metadata": {},
   "source": [
    "### 3.4 Selling Option Product"
   ]
  },
  {
   "cell_type": "markdown",
   "metadata": {},
   "source": [
    "For hedging purpose, we do convexity hedging, namely making the hedging decision when the portfolio convexity equals to 0. We calculate DV01 by moving the yields of CMT by 1 basis point. Then through Vasicek model, we are able to calculate the corresponding price change， which is shown in below \n",
    "<div class=\"math\">\n",
    "\\begin{equation}\n",
    "\\frac{change of prices}{change of yields * 10,000}\n",
    "\\end{equation}\n",
    "</div>\n",
    "\n",
    "We have DV01 for bond is 0.000712167725991919 and DV01 for option is 0.035745."
   ]
  },
  {
   "cell_type": "markdown",
   "metadata": {},
   "source": [
    "hedging strategy\n",
    "\n",
    "- sell call option\n",
    "- cash hedging, prot DV01 = 0"
   ]
  },
  {
   "cell_type": "code",
   "execution_count": 28,
   "metadata": {},
   "outputs": [],
   "source": [
    "# Calculate underlying DV01\n",
    "y = np.array(df.iloc[-1,:])\n",
    "y1 = np.array(df.iloc[-1,:] + 0.01)\n",
    "y2 = np.array(df.iloc[-1,:] - 0.01)\n",
    "b = np.exp(-y[-1]/100*8)\n",
    "b1 = np.exp(-y1[-1]/100*8)\n",
    "b2 = np.exp(-y2[-1]/100*8)\n",
    "DV01_B = (b2-b1)/2/0.0001"
   ]
  },
  {
   "cell_type": "code",
   "execution_count": 29,
   "metadata": {},
   "outputs": [
    {
     "data": {
      "text/plain": [
       "7.12167725991919"
      ]
     },
     "execution_count": 29,
     "metadata": {},
     "output_type": "execute_result"
    }
   ],
   "source": [
    "DV01_B"
   ]
  },
  {
   "cell_type": "code",
   "execution_count": 22,
   "metadata": {},
   "outputs": [
    {
     "name": "stdout",
     "output_type": "stream",
     "text": [
      "      fun: 7.146968758846089e-07\n",
      " hess_inv: <3x3 LbfgsInvHessProduct with dtype=float64>\n",
      "      jac: array([-4.82048079e-06, -1.48895202e-04,  8.54337088e-05])\n",
      "  message: b'CONVERGENCE: REL_REDUCTION_OF_F_<=_FACTR*EPSMCH'\n",
      "     nfev: 104\n",
      "      nit: 6\n",
      "     njev: 26\n",
      "   status: 0\n",
      "  success: True\n",
      "        x: array([8.69117809e-01, 8.67792438e-04, 3.67629253e-02])\n",
      "Vasicek model parameters are [8.69117809e-01 8.67792438e-04 3.67629253e-02]\n",
      "Analytic solution for bond call [0.57, 6, 8] is 0.42988599293547325\n",
      "MC simulation solution for bond call [0.57, 6, 8] with parameters (12.0, 10000) is 0.42981815451218974\n",
      "      fun: 0.00021596937584886968\n",
      " hess_inv: <3x3 LbfgsInvHessProduct with dtype=float64>\n",
      "      jac: array([-2.07850772e-06, -1.57761716e-06,  3.88171083e-02])\n",
      "  message: b'CONVERGENCE: NORM_OF_PROJECTED_GRADIENT_<=_PGTOL'\n",
      "     nfev: 468\n",
      "      nit: 72\n",
      "     njev: 117\n",
      "   status: 0\n",
      "  success: True\n",
      "        x: array([0.04866436, 0.10291103, 0.02      ])\n",
      "Vasicek model parameters are [0.04866436 0.10291103 0.02      ]\n",
      "Analytic solution for bond call [0.57, 6, 8] is 0.3583584326299303\n",
      "MC simulation solution for bond call [0.57, 6, 8] with parameters (12.0, 10000) is 0.35943099609447066\n"
     ]
    }
   ],
   "source": [
    "# set parameters\n",
    "data = CMT\n",
    "data1 = CMT\n",
    "data1 = data1.applymap(lambda x: x if str(x)[-3]=='-' else x+0.01)\n",
    "data2 = CMT\n",
    "data2 = data2.applymap(lambda x: x if str(x)[-3]=='-' else x-0.01)\n",
    "model_type = 'V'\n",
    "intp = 'NS'\n",
    "opt = [0.57, 6, 8]\n",
    "bond = [0, 8, 8, 1]\n",
    "optCall = True\n",
    "step = 1 / 12\n",
    "rounds = 10000\n",
    "window_len = 96\n",
    "\n",
    "pricer = IRModel.BondOptionPricer(data2, model_type, intp,\n",
    "                          opt, bond, optCall, step, rounds, window_len)\n",
    "pricer.getOptionPrice()\n",
    "pricer = IRModel.BondOptionPricer(data1, model_type, intp,\n",
    "                          opt, bond, optCall, step, rounds, window_len)\n",
    "pricer.getOptionPrice()"
   ]
  },
  {
   "cell_type": "code",
   "execution_count": 30,
   "metadata": {},
   "outputs": [
    {
     "data": {
      "text/plain": [
       "357.45"
      ]
     },
     "execution_count": 30,
     "metadata": {},
     "output_type": "execute_result"
    }
   ],
   "source": [
    "# option DV01\n",
    "DV01_opt = (0.42989 - 0.3584)/2/0.0001; DV01_opt"
   ]
  },
  {
   "cell_type": "code",
   "execution_count": 31,
   "metadata": {},
   "outputs": [],
   "source": [
    "hedge_ratio = -DV01_opt/DV01_B"
   ]
  },
  {
   "cell_type": "code",
   "execution_count": 32,
   "metadata": {},
   "outputs": [
    {
     "data": {
      "text/plain": [
       "-44.32248545823014"
      ]
     },
     "execution_count": 32,
     "metadata": {},
     "output_type": "execute_result"
    }
   ],
   "source": [
    "hedge_ratio*b+0.35875977577085605"
   ]
  },
  {
   "cell_type": "markdown",
   "metadata": {},
   "source": [
    "### 3.5 Sensitivity Analysis"
   ]
  },
  {
   "cell_type": "markdown",
   "metadata": {},
   "source": [
    "We selected different window length and compare: we found that shorter the better after trying i year length, 2 year length and the suggested 250 weeks, the one with the smallest bias should be the 1 year window length."
   ]
  },
  {
   "cell_type": "code",
   "execution_count": 19,
   "metadata": {},
   "outputs": [
    {
     "name": "stdout",
     "output_type": "stream",
     "text": [
      "-0.007492273248100969\n"
     ]
    }
   ],
   "source": [
    "# might take a little bit longer for solver\n",
    "model_type = 'BDT'\n",
    "window_len_1 = 100\n",
    "window_len_2 = 150\n",
    "pricer1 = IRModel.BondOptionPricer(data, model_type, intp,\n",
    "                          opt, bond, optCall, step, rounds, window_len_1)\n",
    "price1 = pricer.getOptionPrice()\n",
    "\n",
    "pricer2 = IRModel.BondOptionPricer(data, model_type, intp,\n",
    "                          opt, bond, optCall, step, rounds, window_len_2)\n",
    "price2 = pricer.getOptionPrice()\n",
    "\n",
    "delta_window = (price2-price1)/50\n",
    "print(delta_window)"
   ]
  },
  {
   "cell_type": "markdown",
   "metadata": {},
   "source": [
    "The results above show that our model relative less sensitive to the vol window selection."
   ]
  }
 ],
 "metadata": {
  "kernelspec": {
   "display_name": "Python 3",
   "language": "python",
   "name": "python3"
  },
  "language_info": {
   "codemirror_mode": {
    "name": "ipython",
    "version": 3
   },
   "file_extension": ".py",
   "mimetype": "text/x-python",
   "name": "python",
   "nbconvert_exporter": "python",
   "pygments_lexer": "ipython3",
   "version": "3.7.4"
  },
  "toc": {
   "base_numbering": 1,
   "nav_menu": {
    "height": "263px",
    "width": "178px"
   },
   "number_sections": false,
   "sideBar": true,
   "skip_h1_title": false,
   "title_cell": "Table of Contents",
   "title_sidebar": "Contents",
   "toc_cell": false,
   "toc_position": {
    "height": "calc(100% - 180px)",
    "left": "10px",
    "top": "150px",
    "width": "302.988px"
   },
   "toc_section_display": true,
   "toc_window_display": true
  }
 },
 "nbformat": 4,
 "nbformat_minor": 4
}
